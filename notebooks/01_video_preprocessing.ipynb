{
 "cells": [
  {
   "cell_type": "markdown",
   "id": "8237b690-e9f1-46ce-8b0a-18d9003c5a25",
   "metadata": {},
   "source": [
    "# Preprocessing"
   ]
  },
  {
   "cell_type": "code",
   "execution_count": 6,
   "id": "ff9a46ae-3ad6-4ef5-b0e4-8ea86d886dd1",
   "metadata": {
    "tags": []
   },
   "outputs": [],
   "source": [
    "import ast\n",
    "import pandas as pd\n",
    "\n",
    "from pathlib import Path\n",
    "\n",
    "from video_intelligence.utils import io\n",
    "from video_intelligence.config import Config\n",
    "from video_intelligence.processing.types import Crop\n",
    "from video_intelligence.preprocessing.preprocessor import VideoPreprocessor, VideoConfig"
   ]
  },
  {
   "cell_type": "code",
   "execution_count": null,
   "id": "358a9a2a-1780-4030-8839-de764158c222",
   "metadata": {
    "tags": []
   },
   "outputs": [],
   "source": [
    "config_file = str(Path.cwd().parent / \"config.yaml\")\n",
    "config = Config.from_yaml(config_file)"
   ]
  },
  {
   "cell_type": "code",
   "execution_count": 8,
   "id": "87dddbdc-d892-4e1c-9992-101613f5c45c",
   "metadata": {
    "tags": []
   },
   "outputs": [],
   "source": [
    "gcs_io = io.GcsIO(project_id=config.project_id, root_path=f\"gs://{config.bucket}\")"
   ]
  },
  {
   "cell_type": "code",
   "execution_count": 9,
   "id": "4b4cc82a-2310-43d1-ae7e-79633bedec38",
   "metadata": {
    "tags": []
   },
   "outputs": [],
   "source": [
    "df = pd.read_csv(config.paths.preprocessing_config)"
   ]
  },
  {
   "cell_type": "code",
   "execution_count": 10,
   "id": "5bad5fc8",
   "metadata": {},
   "outputs": [],
   "source": [
    "videos = gcs_io.list_files(config.input_path)"
   ]
  },
  {
   "cell_type": "code",
   "execution_count": 11,
   "id": "0a049fbb-66b1-4b04-95d6-c0f46fd4d9e1",
   "metadata": {
    "tags": []
   },
   "outputs": [
    {
     "data": {
      "text/plain": [
       "[(0.0, '(1280, 480, 100, 140, 0, 0)', 1),\n",
       " (0.0, '(1280, 480, 100, 140, 0, 0)', 1),\n",
       " (0.0, '(1280, 480, 100, 140, 0, 0)', 1)]"
      ]
     },
     "execution_count": 11,
     "metadata": {},
     "output_type": "execute_result"
    }
   ],
   "source": [
    "configs = list(zip(df['start_frame'], df['crop_params'], df['fps']))\n",
    "configs"
   ]
  },
  {
   "cell_type": "code",
   "execution_count": 12,
   "id": "acd8c00b-2f0e-4d1f-a9c3-1043f8859bb9",
   "metadata": {
    "tags": []
   },
   "outputs": [
    {
     "name": "stdout",
     "output_type": "stream",
     "text": [
      "Video capture initialized.\n",
      "Video properties: FPS=30.148637489677952, Width=1280, Height=720, Frames=1217, Rotation=90\n",
      "Output properties: FPS=1, Width=1280, Height=480\n",
      "Processed 10 frames\n",
      "Encoded to: /tmp/videos/0000f77c-6257be58.mp4\n",
      "Saved processed video to: preprocessed/0000f77c-6257be58\n",
      "Video capture initialized.\n",
      "Video properties: FPS=30.05091270334037, Width=1280, Height=720, Frames=1210, Rotation=270\n",
      "Output properties: FPS=1, Width=1280, Height=480\n",
      "Processed 10 frames\n",
      "Encoded to: /tmp/videos/00091078-7cff8ea6.mp4\n",
      "Saved processed video to: preprocessed/00091078-7cff8ea6\n",
      "Video capture initialized.\n",
      "Video properties: FPS=30.04359559892049, Width=1280, Height=720, Frames=1206, Rotation=270\n",
      "Output properties: FPS=1, Width=1280, Height=480\n",
      "Processed 10 frames\n",
      "Encoded to: /tmp/videos/00225f53-67614580.mp4\n",
      "Saved processed video to: preprocessed/00225f53-67614580\n"
     ]
    }
   ],
   "source": [
    "for gcs_path, cfg in zip(videos, configs):\n",
    "    start_frame = int(cfg[0])\n",
    "    crop = Crop.from_tuple(ast.literal_eval(cfg[1]))\n",
    "    fps = int(cfg[2])\n",
    "\n",
    "    prep_config = VideoConfig(\n",
    "        crop=crop,\n",
    "        target_fps=fps,\n",
    "        max_frames=10,\n",
    "    )\n",
    "\n",
    "    preprocessor = VideoPreprocessor(\n",
    "        source_io=gcs_io,\n",
    "        target_io=gcs_io,\n",
    "        config=prep_config\n",
    "    )\n",
    "\n",
    "    preprocessor.preprocess(\n",
    "        source_path=gcs_path,\n",
    "        target_path=config.preprocessed_path,\n",
    "        start_frame=start_frame,\n",
    "    )"
   ]
  },
  {
   "cell_type": "code",
   "execution_count": null,
   "id": "ee3978bc",
   "metadata": {},
   "outputs": [],
   "source": []
  },
  {
   "cell_type": "code",
   "execution_count": null,
   "id": "9915d902",
   "metadata": {},
   "outputs": [],
   "source": []
  }
 ],
 "metadata": {
  "environment": {
   "kernel": "raidar_video_intelligence",
   "name": "workbench-notebooks.m128",
   "type": "gcloud",
   "uri": "us-docker.pkg.dev/deeplearning-platform-release/gcr.io/workbench-notebooks:m128"
  },
  "kernelspec": {
   "display_name": "video-intelligence-w_Sfx2-O-py3.12",
   "language": "python",
   "name": "python3"
  },
  "language_info": {
   "codemirror_mode": {
    "name": "ipython",
    "version": 3
   },
   "file_extension": ".py",
   "mimetype": "text/x-python",
   "name": "python",
   "nbconvert_exporter": "python",
   "pygments_lexer": "ipython3",
   "version": "3.12.10"
  }
 },
 "nbformat": 4,
 "nbformat_minor": 5
}
