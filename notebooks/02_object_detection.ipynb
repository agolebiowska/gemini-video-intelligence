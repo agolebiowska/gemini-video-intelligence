{
 "cells": [
  {
   "cell_type": "markdown",
   "id": "6a1812d3-f306-40c7-b0cd-32dd61c6e47e",
   "metadata": {},
   "source": [
    "# Object detection"
   ]
  },
  {
   "cell_type": "code",
   "execution_count": 1,
   "id": "NgkfyfNAiVUs",
   "metadata": {
    "executionInfo": {
     "elapsed": 3,
     "status": "ok",
     "timestamp": 1739265659753,
     "user": {
      "displayName": "",
      "userId": ""
     },
     "user_tz": -60
    },
    "id": "NgkfyfNAiVUs",
    "tags": []
   },
   "outputs": [],
   "source": [
    "import os\n",
    "\n",
    "from pathlib import Path\n",
    "\n",
    "from IPython.display import display, Video\n",
    "\n",
    "from video_intelligence.utils import io\n",
    "from video_intelligence.config import Config\n",
    "from video_intelligence.processing.detections import VideoProcessor\n",
    "from video_intelligence.export.bq import BigQueryExporter"
   ]
  },
  {
   "cell_type": "code",
   "execution_count": null,
   "id": "ClOx8XFfnJGv",
   "metadata": {
    "executionInfo": {
     "elapsed": 2,
     "status": "ok",
     "timestamp": 1739265664257,
     "user": {
      "displayName": "",
      "userId": ""
     },
     "user_tz": -60
    },
    "id": "ClOx8XFfnJGv",
    "tags": []
   },
   "outputs": [],
   "source": [
    "config_file = str(Path.cwd().parent / \"config.yaml\")\n",
    "config = Config.from_yaml(config_file)"
   ]
  },
  {
   "cell_type": "code",
   "execution_count": 3,
   "id": "78784a29",
   "metadata": {},
   "outputs": [],
   "source": [
    "gcs_io = io.GcsIO(config.project_id, f\"gs://{config.bucket}\")\n",
    "local_io = io.LocalIO(root_path=config.paths.tmp)"
   ]
  },
  {
   "cell_type": "code",
   "execution_count": 4,
   "id": "8450b9d9-61b1-46b9-a2c8-11a8e751c945",
   "metadata": {
    "scrolled": true,
    "tags": []
   },
   "outputs": [
    {
     "data": {
      "text/plain": [
       "['preprocessed/0000f77c-6257be58/0000f77c-6257be58.mp4',\n",
       " 'preprocessed/00091078-7cff8ea6/00091078-7cff8ea6.mp4',\n",
       " 'preprocessed/00225f53-67614580/00225f53-67614580.mp4']"
      ]
     },
     "execution_count": 4,
     "metadata": {},
     "output_type": "execute_result"
    }
   ],
   "source": [
    "videos = gcs_io.list_files(path=config.preprocessed_path, rec=True)\n",
    "videos"
   ]
  },
  {
   "cell_type": "code",
   "execution_count": 5,
   "id": "1d43d878-99e6-4f76-9c7f-aea51ed0b531",
   "metadata": {
    "tags": []
   },
   "outputs": [],
   "source": [
    "test_videos = []\n",
    "for _, gcs_path in enumerate(videos):\n",
    "    video = gcs_io.get_video(path=gcs_path)\n",
    "    path = gcs_path.split('/')[-1]\n",
    "    local_io.save_video(video, path)\n",
    "    test_videos.append(os.path.join(config.paths.tmp, path))"
   ]
  },
  {
   "cell_type": "code",
   "execution_count": 6,
   "id": "GjEdpMRsj2Ib",
   "metadata": {
    "executionInfo": {
     "elapsed": 4,
     "status": "ok",
     "timestamp": 1739265663259,
     "user": {
      "displayName": "",
      "userId": ""
     },
     "user_tz": -60
    },
    "id": "GjEdpMRsj2Ib",
    "tags": []
   },
   "outputs": [],
   "source": [
    "processor = VideoProcessor(config=config)"
   ]
  },
  {
   "cell_type": "code",
   "execution_count": null,
   "id": "qobxLCRXoq24",
   "metadata": {
    "colab": {
     "base_uri": "https://localhost:8080/"
    },
    "executionInfo": {
     "elapsed": 639,
     "status": "ok",
     "timestamp": 1739265666208,
     "user": {
      "displayName": "",
      "userId": ""
     },
     "user_tz": -60
    },
    "id": "qobxLCRXoq24",
    "outputId": "db1d28af-0d4f-4fb6-b07b-7abd4647ec93",
    "tags": []
   },
   "outputs": [
    {
     "name": "stdout",
     "output_type": "stream",
     "text": [
      "Video capture initialized.\n",
      "Video properties: FPS=1.0, Width=1280, Height=480, Frames=10, Rotation=0\n"
     ]
    },
    {
     "name": "stderr",
     "output_type": "stream",
     "text": [
      "Processing Frames:   0%|          | 0/10 [00:00<?, ?frame/s]"
     ]
    }
   ],
   "source": [
    "results = {}\n",
    "\n",
    "for idx, local_path in enumerate(test_videos):\n",
    "    output_path, timestamps = processor.process_video(video_path=local_path)\n",
    "    results[videos[idx]] = timestamps\n",
    "    print(f\"Processed video: {videos[idx]}\")\n",
    "\n",
    "    with open(output_path, \"rb\") as f:\n",
    "        content = f.read()\n",
    "\n",
    "    gcs_io.save_video(content, videos[idx].replace(\n",
    "        config.preprocessed_path, config.output_path)\n",
    "    )\n",
    "    if output_path:\n",
    "        display(Video(output_path, embed=True))"
   ]
  },
  {
   "cell_type": "code",
   "execution_count": null,
   "id": "d123ae0f-15bc-40e3-8aec-84db3b270211",
   "metadata": {
    "tags": []
   },
   "outputs": [
    {
     "data": {
      "text/plain": [
       "{'preprocessed/0000f77c-6257be58/0000f77c-6257be58.mp4': [Timestamp(timestamp='00:00', objects=[Detection(box_2d=[250, 478, 896, 761], label='car', confidence=0.98), Detection(box_2d=[346, 883, 855, 1000], label='car', confidence=0.92), Detection(box_2d=[306, 828, 367, 868], label='traffic sign', confidence=0.85), Detection(box_2d=[303, 881, 362, 916], label='traffic sign', confidence=0.82), Detection(box_2d=[228, 789, 303, 834], label='traffic sign', confidence=0.78), Detection(box_2d=[367, 828, 398, 868], label='traffic sign', confidence=0.75), Detection(box_2d=[362, 927, 410, 941], label='traffic light', confidence=0.7)]),\n",
       "  Timestamp(timestamp='00:01', objects=[Detection(box_2d=[216, 433, 981, 784], label='car', confidence=0.95), Detection(box_2d=[245, 796, 891, 1000], label='car', confidence=0.92), Detection(box_2d=[299, 842, 353, 886], label='traffic sign', confidence=0.9), Detection(box_2d=[260, 409, 393, 512], label='traffic sign', confidence=0.88), Detection(box_2d=[438, 956, 486, 996], label='traffic light', confidence=0.85), Detection(box_2d=[258, 514, 393, 655], label='traffic sign', confidence=0.82), Detection(box_2d=[438, 392, 481, 416], label='traffic light', confidence=0.8), Detection(box_2d=[408, 776, 458, 794], label='traffic light', confidence=0.78), Detection(box_2d=[286, 759, 341, 784], label='traffic sign', confidence=0.75)]),\n",
       "  Timestamp(timestamp='00:02', objects=[Detection(box_2d=[218, 398, 983, 777], label='car', confidence=0.95), Detection(box_2d=[305, 753, 773, 1000], label='car', confidence=0.92), Detection(box_2d=[160, 48, 355, 88], label='traffic sign', confidence=0.9), Detection(box_2d=[305, 758, 370, 775], label='traffic light', confidence=0.85), Detection(box_2d=[280, 874, 305, 923], label='traffic sign', confidence=0.8)]),\n",
       "  Timestamp(timestamp='00:03', objects=[Detection(box_2d=[200, 416, 942, 765], label='car', confidence=0.95), Detection(box_2d=[345, 739, 685, 924], label='car', confidence=0.9), Detection(box_2d=[250, 920, 356, 974], label='traffic sign', confidence=0.95), Detection(box_2d=[170, 0, 301, 41], label='traffic sign', confidence=0.9), Detection(box_2d=[228, 787, 304, 804], label='traffic light', confidence=0.9), Detection(box_2d=[425, 15, 522, 48], label='traffic sign', confidence=0.7)]),\n",
       "  Timestamp(timestamp='00:04', objects=[Detection(box_2d=[238, 380, 971, 736], label='car', confidence=0.98), Detection(box_2d=[102, 704, 204, 721], label='traffic light', confidence=0.95), Detection(box_2d=[195, 851, 271, 870], label='traffic light', confidence=0.94), Detection(box_2d=[284, 701, 356, 738], label='traffic sign', confidence=0.93), Detection(box_2d=[169, 464, 251, 492], label='traffic light', confidence=0.91), Detection(box_2d=[389, 696, 712, 932], label='car', confidence=0.88), Detection(box_2d=[291, 247, 352, 263], label='traffic light', confidence=0.87), Detection(box_2d=[63, 0, 210, 110], label='traffic sign', confidence=0.85), Detection(box_2d=[159, 587, 241, 678], label='traffic sign', confidence=0.82), Detection(box_2d=[318, 894, 377, 917], label='traffic light', confidence=0.8), Detection(box_2d=[451, 380, 560, 422], label='car', confidence=0.75)]),\n",
       "  Timestamp(timestamp='00:05', objects=[Detection(box_2d=[260, 374, 960, 698], label='car', confidence=0.98), Detection(box_2d=[178, 705, 998, 1000], label='car', confidence=0.95), Detection(box_2d=[439, 324, 621, 399], label='car', confidence=0.92), Detection(box_2d=[34, 731, 143, 752], label='traffic light', confidence=0.97), Detection(box_2d=[140, 889, 229, 909], label='traffic light', confidence=0.96), Detection(box_2d=[131, 450, 208, 477], label='traffic light', confidence=0.95), Detection(box_2d=[150, 783, 220, 829], label='traffic sign', confidence=0.94), Detection(box_2d=[225, 162, 316, 187], label='traffic light', confidence=0.91), Detection(box_2d=[145, 565, 232, 676], label='traffic sign', confidence=0.9), Detection(box_2d=[300, 788, 342, 816], label='traffic sign', confidence=0.85)]),\n",
       "  Timestamp(timestamp='00:06', objects=[Detection(box_2d=[259, 339, 978, 645], label='car', confidence=0.98), Detection(box_2d=[120, 684, 999, 1000], label='car', confidence=0.97), Detection(box_2d=[450, 260, 672, 364], label='car', confidence=0.92), Detection(box_2d=[50, 447, 166, 482], label='traffic light', confidence=0.95), Detection(box_2d=[0, 793, 52, 817], label='traffic light', confidence=0.94), Detection(box_2d=[104, 29, 236, 77], label='traffic light', confidence=0.93), Detection(box_2d=[162, 791, 234, 823], label='traffic sign', confidence=0.88), Detection(box_2d=[162, 596, 230, 625], label='traffic sign', confidence=0.85), Detection(box_2d=[370, 791, 409, 816], label='traffic sign', confidence=0.82)]),\n",
       "  Timestamp(timestamp='00:07', objects=[Detection(box_2d=[270, 551, 824, 949], label='car', confidence=0.95), Detection(box_2d=[326, 259, 888, 518], label='car', confidence=0.94), Detection(box_2d=[478, 142, 667, 224], label='car', confidence=0.88), Detection(box_2d=[125, 925, 234, 964], label='traffic sign', confidence=0.85), Detection(box_2d=[30, 461, 139, 498], label='traffic light', confidence=0.82), Detection(box_2d=[125, 625, 231, 726], label='traffic sign', confidence=0.78), Detection(box_2d=[288, 480, 382, 502], label='traffic light', confidence=0.75)]),\n",
       "  Timestamp(timestamp='00:08', objects=[Detection(box_2d=[280, 419, 763, 1000], label='car', confidence=0.96), Detection(box_2d=[338, 89, 899, 365], label='car', confidence=0.95), Detection(box_2d=[448, 71, 607, 129], label='car', confidence=0.85), Detection(box_2d=[224, 578, 289, 613], label='traffic light', confidence=0.92), Detection(box_2d=[328, 935, 356, 953], label='traffic sign', confidence=0.88)])],\n",
       " 'preprocessed/00225f53-67614580/00225f53-67614580.mp4': [Timestamp(timestamp='00:00', objects=[Detection(box_2d=[493, 0, 933, 345], label='car', confidence=0.95), Detection(box_2d=[590, 432, 779, 518], label='car', confidence=0.93), Detection(box_2d=[552, 563, 779, 683], label='car', confidence=0.92), Detection(box_2d=[578, 677, 771, 784], label='car', confidence=0.91), Detection(box_2d=[652, 906, 868, 1000], label='car', confidence=0.9), Detection(box_2d=[645, 778, 789, 880], label='car', confidence=0.89), Detection(box_2d=[616, 322, 793, 375], label='car', confidence=0.87), Detection(box_2d=[601, 509, 696, 553], label='car', confidence=0.82), Detection(box_2d=[430, 358, 500, 386], label='traffic sign', confidence=0.8), Detection(box_2d=[569, 373, 700, 430], label='car', confidence=0.78), Detection(box_2d=[358, 498, 430, 523], label='traffic light', confidence=0.75), Detection(box_2d=[300, 341, 390, 364], label='traffic sign', confidence=0.7), Detection(box_2d=[589, 541, 659, 570], label='car', confidence=0.65)]),\n",
       "  Timestamp(timestamp='00:01', objects=[Detection(box_2d=[529, 562, 760, 690], label='car', confidence=0.98), Detection(box_2d=[546, 710, 798, 892], label='car', confidence=0.98), Detection(box_2d=[570, 427, 736, 506], label='car', confidence=0.97), Detection(box_2d=[311, 309, 490, 361], label='traffic sign', confidence=0.96), Detection(box_2d=[533, 310, 719, 403], label='car', confidence=0.95), Detection(box_2d=[635, 882, 814, 993], label='car', confidence=0.94), Detection(box_2d=[577, 0, 1000, 218], label='car', confidence=0.92), Detection(box_2d=[121, 309, 270, 358], label='traffic sign', confidence=0.9), Detection(box_2d=[688, 965, 837, 1000], label='car', confidence=0.88), Detection(box_2d=[576, 492, 674, 529], label='car', confidence=0.85), Detection(box_2d=[510, 586, 543, 596], label='traffic light', confidence=0.85), Detection(box_2d=[579, 518, 644, 552], label='car', confidence=0.8), Detection(box_2d=[580, 682, 703, 734], label='car', confidence=0.75), Detection(box_2d=[546, 442, 564, 450], label='traffic light', confidence=0.7)]),\n",
       "  Timestamp(timestamp='00:02', objects=[Detection(box_2d=[1, 180, 180, 260], label='traffic sign', confidence=0.98), Detection(box_2d=[515, 810, 912, 1000], label='car', confidence=0.96), Detection(box_2d=[488, 168, 826, 360], label='car', confidence=0.95), Detection(box_2d=[523, 567, 766, 708], label='car', confidence=0.94), Detection(box_2d=[565, 429, 729, 516], label='car', confidence=0.92), Detection(box_2d=[535, 15, 680, 80], label='traffic sign', confidence=0.9), Detection(box_2d=[586, 706, 752, 841], label='car', confidence=0.88), Detection(box_2d=[559, 512, 650, 563], label='car', confidence=0.85), Detection(box_2d=[502, 402, 528, 416], label='traffic light', confidence=0.8), Detection(box_2d=[620, 0, 800, 58], label='car', confidence=0.75), Detection(box_2d=[612, 860, 680, 905], label='human', confidence=0.7), Detection(box_2d=[620, 910, 675, 945], label='human', confidence=0.65)]),\n",
       "  Timestamp(timestamp='00:03', objects=[Detection(box_2d=[518, 566, 766, 714], label='car', confidence=0.97), Detection(box_2d=[565, 428, 728, 504], label='car', confidence=0.96), Detection(box_2d=[623, 822, 797, 976], label='car', confidence=0.95), Detection(box_2d=[581, 506, 660, 548], label='car', confidence=0.93), Detection(box_2d=[620, 738, 751, 846], label='car', confidence=0.92), Detection(box_2d=[555, 0, 1000, 128], label='car', confidence=0.89), Detection(box_2d=[562, 394, 663, 425], label='car', confidence=0.85), Detection(box_2d=[538, 620, 560, 631], label='traffic light', confidence=0.82), Detection(box_2d=[579, 543, 623, 570], label='car', confidence=0.81), Detection(box_2d=[612, 954, 821, 1000], label='car', confidence=0.78), Detection(box_2d=[408, 590, 438, 616], label='traffic light', confidence=0.75), Detection(box_2d=[437, 591, 483, 616], label='traffic sign', confidence=0.72)]),\n",
       "  Timestamp(timestamp='00:04', objects=[Detection(box_2d=[577, 421, 758, 502], label='car', confidence=0.97), Detection(box_2d=[528, 572, 811, 733], label='car', confidence=0.96), Detection(box_2d=[543, 318, 783, 375], label='car', confidence=0.94), Detection(box_2d=[585, 502, 678, 554], label='car', confidence=0.92), Detection(box_2d=[656, 809, 891, 946], label='car', confidence=0.91), Detection(box_2d=[560, 352, 704, 408], label='car', confidence=0.9), Detection(box_2d=[680, 920, 999, 999], label='car', confidence=0.89), Detection(box_2d=[620, 724, 776, 794], label='car', confidence=0.88), Detection(box_2d=[604, 772, 670, 824], label='car', confidence=0.85), Detection(box_2d=[573, 549, 629, 581], label='car', confidence=0.82), Detection(box_2d=[498, 380, 528, 395], label='traffic light', confidence=0.75), Detection(box_2d=[540, 750, 562, 763], label='traffic light', confidence=0.72), Detection(box_2d=[521, 748, 540, 788], label='traffic sign', confidence=0.65)]),\n",
       "  Timestamp(timestamp='00:05', objects=[Detection(box_2d=[488, 588, 851, 797], label='car', confidence=0.96), Detection(box_2d=[488, 76, 865, 320], label='car', confidence=0.95), Detection(box_2d=[590, 791, 862, 997], label='car', confidence=0.95), Detection(box_2d=[558, 393, 782, 497], label='car', confidence=0.94), Detection(box_2d=[406, 707, 480, 727], label='traffic light', confidence=0.93), Detection(box_2d=[457, 388, 511, 408], label='traffic light', confidence=0.92), Detection(box_2d=[527, 510, 629, 570], label='car', confidence=0.88), Detection(box_2d=[437, 781, 480, 818], label='traffic sign', confidence=0.88), Detection(box_2d=[516, 375, 596, 428], label='car', confidence=0.85), Detection(box_2d=[406, 218, 452, 247], label='traffic sign', confidence=0.85), Detection(box_2d=[536, 567, 602, 603], label='car', confidence=0.82), Detection(box_2d=[457, 247, 499, 271], label='traffic sign', confidence=0.82), Detection(box_2d=[587, 939, 683, 1000], label='car', confidence=0.8), Detection(box_2d=[516, 419, 556, 446], label='car', confidence=0.8), Detection(box_2d=[510, 342, 585, 360], label='human', confidence=0.75)]),\n",
       "  Timestamp(timestamp='00:06', objects=[Detection(box_2d=[512, 379, 783, 502], label='car', confidence=0.98), Detection(box_2d=[463, 592, 838, 816], label='car', confidence=0.97), Detection(box_2d=[573, 850, 928, 1000], label='car', confidence=0.96), Detection(box_2d=[500, 520, 614, 584], label='car', confidence=0.92), Detection(box_2d=[494, 429, 590, 500], label='car', confidence=0.88), Detection(box_2d=[672, 0, 938, 134], label='car', confidence=0.85), Detection(box_2d=[513, 579, 590, 622], label='car', confidence=0.82), Detection(box_2d=[478, 316, 594, 338], label='human', confidence=0.81), Detection(box_2d=[342, 324, 424, 346], label='traffic light', confidence=0.99), Detection(box_2d=[348, 780, 438, 804], label='traffic light', confidence=0.98), Detection(box_2d=[462, 136, 578, 168], label='human', confidence=0.75), Detection(box_2d=[148, 180, 192, 248], label='traffic sign', confidence=0.94), Detection(box_2d=[428, 692, 462, 772], label='traffic sign', confidence=0.93), Detection(box_2d=[498, 393, 548, 434], label='car', confidence=0.78), Detection(box_2d=[472, 170, 576, 190], label='human', confidence=0.72)]),\n",
       "  Timestamp(timestamp='00:07', objects=[Detection(box_2d=[436, 374, 728, 506], label='car', confidence=0.95), Detection(box_2d=[384, 596, 765, 816], label='car', confidence=0.94), Detection(box_2d=[482, 526, 602, 596], label='car', confidence=0.89), Detection(box_2d=[248, 884, 414, 929], label='traffic light', confidence=0.93), Detection(box_2d=[257, 293, 307, 314], label='traffic light', confidence=0.92), Detection(box_2d=[618, 951, 821, 1000], label='car', confidence=0.87), Detection(box_2d=[281, 819, 320, 899], label='traffic sign', confidence=0.85), Detection(box_2d=[454, 274, 590, 302], label='human', confidence=0.82), Detection(box_2d=[0, 848, 117, 926], label='traffic sign', confidence=0.81), Detection(box_2d=[494, 809, 666, 851], label='human', confidence=0.79), Detection(box_2d=[500, 859, 666, 894], label='human', confidence=0.78), Detection(box_2d=[518, 884, 672, 920], label='human', confidence=0.76), Detection(box_2d=[460, 490, 540, 533], label='car', confidence=0.72), Detection(box_2d=[460, 399, 578, 426], label='human', confidence=0.65)]),\n",
       "  Timestamp(timestamp='00:08', objects=[Detection(box_2d=[524, 599, 882, 801], label='car', confidence=0.96), Detection(box_2d=[594, 376, 894, 516], label='car', confidence=0.95), Detection(box_2d=[158, 28, 410, 88], label='traffic light', confidence=0.94), Detection(box_2d=[633, 533, 760, 605], label='car', confidence=0.91), Detection(box_2d=[638, 310, 785, 384], label='car', confidence=0.88), Detection(box_2d=[375, 243, 418, 265], label='traffic light', confidence=0.87), Detection(box_2d=[607, 213, 826, 245], label='human', confidence=0.82), Detection(box_2d=[658, 838, 799, 917], label='car', confidence=0.78), Detection(box_2d=[620, 267, 780, 290], label='human', confidence=0.71), Detection(box_2d=[648, 519, 725, 542], label='car', confidence=0.65), Detection(box_2d=[658, 798, 796, 842], label='car', confidence=0.62), Detection(box_2d=[620, 827, 812, 879], label='human', confidence=0.55)])],\n",
       " 'preprocessed/00091078-7cff8ea6/00091078-7cff8ea6.mp4': [Timestamp(timestamp='00:00', objects=[Detection(box_2d=[411, 347, 1000, 566], label='car', confidence=0.95), Detection(box_2d=[410, 550, 1000, 1000], label='car', confidence=0.9), Detection(box_2d=[0, 94, 200, 225], label='traffic sign', confidence=0.98), Detection(box_2d=[162, 396, 276, 433], label='traffic light', confidence=0.9), Detection(box_2d=[468, 166, 812, 262], label='car', confidence=0.8), Detection(box_2d=[256, 225, 424, 292], label='traffic sign', confidence=0.95), Detection(box_2d=[162, 233, 304, 302], label='traffic light', confidence=0.85), Detection(box_2d=[360, 48, 572, 106], label='traffic light', confidence=0.8), Detection(box_2d=[356, 475, 424, 531], label='traffic sign', confidence=0.9), Detection(box_2d=[606, 573, 708, 595], label='human', confidence=0.8), Detection(box_2d=[606, 0, 682, 112], label='car', confidence=0.7), Detection(box_2d=[606, 68, 664, 122], label='car', confidence=0.6)]),\n",
       "  Timestamp(timestamp='00:01', objects=[Detection(box_2d=[409, 208, 1000, 578], label='car', confidence=0.94), Detection(box_2d=[211, 628, 1000, 1000], label='car', confidence=0.92), Detection(box_2d=[300, 0, 924, 287], label='car', confidence=0.89), Detection(box_2d=[0, 98, 202, 225], label='traffic sign', confidence=0.98), Detection(box_2d=[620, 559, 772, 660], label='car', confidence=0.85), Detection(box_2d=[265, 235, 421, 285], label='traffic sign', confidence=0.97), Detection(box_2d=[166, 399, 278, 432], label='traffic light', confidence=0.96), Detection(box_2d=[158, 235, 236, 278], label='traffic light', confidence=0.95), Detection(box_2d=[362, 484, 438, 530], label='traffic sign', confidence=0.91), Detection(box_2d=[253, 549, 312, 560], label='traffic light', confidence=0.82)]),\n",
       "  Timestamp(timestamp='00:02', objects=[Detection(box_2d=[22, 91, 200, 223], label='traffic sign', confidence=0.98), Detection(box_2d=[244, 212, 361, 302], label='traffic sign', confidence=0.97), Detection(box_2d=[413, 189, 1000, 575], label='car', confidence=0.96), Detection(box_2d=[221, 602, 1000, 1000], label='car', confidence=0.95), Detection(box_2d=[272, 0, 900, 302], label='car', confidence=0.92), Detection(box_2d=[154, 394, 277, 432], label='traffic light', confidence=0.91), Detection(box_2d=[574, 537, 770, 608], label='car', confidence=0.89), Detection(box_2d=[364, 483, 420, 530], label='traffic sign', confidence=0.88), Detection(box_2d=[162, 255, 239, 279], label='traffic light', confidence=0.85), Detection(box_2d=[225, 544, 312, 561], label='traffic light', confidence=0.82)]),\n",
       "  Timestamp(timestamp='00:03', objects=[Detection(box_2d=[412, 203, 1000, 575], label='car', confidence=0.99), Detection(box_2d=[229, 622, 1000, 1000], label='car', confidence=0.98), Detection(box_2d=[582, 558, 765, 666], label='car', confidence=0.96), Detection(box_2d=[2, 87, 199, 224], label='traffic sign', confidence=0.98), Detection(box_2d=[161, 398, 278, 432], label='traffic light', confidence=0.98), Detection(box_2d=[255, 232, 432, 286], label='traffic sign', confidence=0.97), Detection(box_2d=[161, 235, 236, 277], label='traffic light', confidence=0.95), Detection(box_2d=[248, 548, 312, 561], label='traffic light', confidence=0.9), Detection(box_2d=[364, 483, 436, 530], label='traffic sign', confidence=0.88), Detection(box_2d=[603, 0, 720, 120], label='car', confidence=0.85), Detection(box_2d=[386, 59, 456, 77], label='traffic light', confidence=0.82)]),\n",
       "  Timestamp(timestamp='00:04', objects=[Detection(box_2d=[411, 209, 1000, 576], label='car', confidence=0.98), Detection(box_2d=[213, 659, 1000, 1000], label='car', confidence=0.97), Detection(box_2d=[575, 5, 888, 250], label='car', confidence=0.92), Detection(box_2d=[0, 79, 201, 224], label='traffic sign', confidence=0.91), Detection(box_2d=[160, 256, 240, 280], label='traffic light', confidence=0.89), Detection(box_2d=[255, 234, 420, 285], label='traffic sign', confidence=0.88), Detection(box_2d=[162, 399, 278, 432], label='traffic light', confidence=0.87), Detection(box_2d=[570, 537, 720, 584], label='car', confidence=0.82), Detection(box_2d=[364, 484, 423, 530], label='traffic sign', confidence=0.78), Detection(box_2d=[208, 546, 313, 561], label='traffic light', confidence=0.75), Detection(box_2d=[606, 0, 693, 65], label='car', confidence=0.65)]),\n",
       "  Timestamp(timestamp='00:05', objects=[Detection(box_2d=[413, 198, 1000, 576], label='car', confidence=0.98), Detection(box_2d=[238, 629, 1000, 1000], label='car', confidence=0.97), Detection(box_2d=[0, 91, 202, 225], label='traffic sign', confidence=0.96), Detection(box_2d=[160, 398, 279, 432], label='traffic light', confidence=0.95), Detection(box_2d=[542, 0, 922, 100], label='car', confidence=0.94), Detection(box_2d=[252, 233, 422, 285], label='traffic sign', confidence=0.93), Detection(box_2d=[158, 252, 276, 286], label='traffic light', confidence=0.91), Detection(box_2d=[206, 543, 302, 571], label='traffic light', confidence=0.89), Detection(box_2d=[593, 552, 729, 671], label='car', confidence=0.88), Detection(box_2d=[458, 249, 550, 282], label='traffic light', confidence=0.85), Detection(box_2d=[362, 484, 422, 532], label='traffic sign', confidence=0.82), Detection(box_2d=[280, 252, 398, 286], label='traffic light', confidence=0.8)]),\n",
       "  Timestamp(timestamp='00:06', objects=[Detection(box_2d=[178, 199, 432, 666], label='car', confidence=0.95), Detection(box_2d=[0, 92, 74, 233], label='traffic sign', confidence=0.98), Detection(box_2d=[98, 637, 432, 1000], label='car', confidence=0.92), Detection(box_2d=[109, 230, 152, 318], label='traffic sign', confidence=0.97), Detection(box_2d=[234, 0, 377, 173], label='car', confidence=0.88), Detection(box_2d=[72, 406, 117, 451], label='traffic light', confidence=0.93), Detection(box_2d=[67, 258, 109, 292], label='traffic light', confidence=0.9), Detection(box_2d=[155, 498, 186, 567], label='traffic sign', confidence=0.85), Detection(box_2d=[87, 557, 129, 586], label='traffic light', confidence=0.82), Detection(box_2d=[257, 560, 313, 658], label='car', confidence=0.78), Detection(box_2d=[188, 252, 224, 284], label='traffic light', confidence=0.75), Detection(box_2d=[267, 640, 297, 675], label='car', confidence=0.65)]),\n",
       "  Timestamp(timestamp='00:07', objects=[Detection(box_2d=[412, 210, 1000, 566], label='car', confidence=0.99), Detection(box_2d=[277, 628, 1000, 1000], label='car', confidence=0.98), Detection(box_2d=[0, 91, 173, 240], label='traffic sign', confidence=0.98), Detection(box_2d=[168, 399, 279, 432], label='traffic light', confidence=0.98), Detection(box_2d=[253, 225, 398, 285], label='traffic sign', confidence=0.97), Detection(box_2d=[159, 257, 237, 278], label='traffic light', confidence=0.95), Detection(box_2d=[510, 0, 899, 125], label='car', confidence=0.94), Detection(box_2d=[160, 235, 236, 255], label='traffic light', confidence=0.93), Detection(box_2d=[228, 547, 312, 561], label='traffic light', confidence=0.92), Detection(box_2d=[385, 61, 460, 79], label='traffic light', confidence=0.91), Detection(box_2d=[364, 485, 423, 529], label='traffic sign', confidence=0.9), Detection(box_2d=[589, 542, 767, 651], label='car', confidence=0.88), Detection(box_2d=[606, 28, 691, 147], label='car', confidence=0.85)]),\n",
       "  Timestamp(timestamp='00:08', objects=[Detection(box_2d=[413, 191, 1000, 575], label='car', confidence=0.98), Detection(box_2d=[270, 629, 1000, 1000], label='car', confidence=0.97), Detection(box_2d=[0, 87, 201, 224], label='traffic sign', confidence=0.97), Detection(box_2d=[250, 234, 399, 284], label='traffic sign', confidence=0.96), Detection(box_2d=[178, 399, 278, 431], label='traffic light', confidence=0.94), Detection(box_2d=[623, 556, 711, 646], label='car', confidence=0.91), Detection(box_2d=[386, 58, 457, 80], label='traffic light', confidence=0.89), Detection(box_2d=[208, 546, 311, 561], label='traffic light', confidence=0.88), Detection(box_2d=[365, 484, 423, 529], label='traffic sign', confidence=0.85), Detection(box_2d=[182, 91, 288, 112], label='traffic light', confidence=0.82), Detection(box_2d=[160, 235, 234, 277], label='traffic light', confidence=0.8), Detection(box_2d=[607, 0, 688, 61], label='car', confidence=0.75), Detection(box_2d=[609, 48, 679, 145], label='car', confidence=0.7)]),\n",
       "  Timestamp(timestamp='00:09', objects=[Detection(box_2d=[413, 191, 1000, 575], label='car', confidence=0.97), Detection(box_2d=[258, 626, 1000, 1000], label='car', confidence=0.96), Detection(box_2d=[570, 0, 875, 250], label='car', confidence=0.93), Detection(box_2d=[0, 87, 199, 224], label='traffic sign', confidence=0.99), Detection(box_2d=[253, 234, 398, 284], label='traffic sign', confidence=0.98), Detection(box_2d=[160, 399, 279, 433], label='traffic light', confidence=0.97), Detection(box_2d=[618, 550, 708, 633], label='car', confidence=0.88), Detection(box_2d=[159, 257, 238, 278], label='traffic light', confidence=0.95), Detection(box_2d=[364, 485, 423, 529], label='traffic sign', confidence=0.92), Detection(box_2d=[208, 547, 299, 561], label='traffic light', confidence=0.89), Detection(box_2d=[438, 253, 548, 280], label='traffic light', confidence=0.86), Detection(box_2d=[606, 0, 686, 61], label='car', confidence=0.78), Detection(box_2d=[598, 624, 645, 640], label='human', confidence=0.72)])]}"
      ]
     },
     "execution_count": 10,
     "metadata": {},
     "output_type": "execute_result"
    }
   ],
   "source": [
    "results"
   ]
  },
  {
   "cell_type": "code",
   "execution_count": null,
   "id": "9591e669-5e11-4774-8b3e-8e91d277a9a8",
   "metadata": {
    "tags": []
   },
   "outputs": [],
   "source": [
    "import json\n",
    "with open(config.paths.results, 'w', encoding='utf-8') as f:\n",
    "    serializable_results = {\n",
    "        video_path: [timestamp.to_dict() for timestamp in timestamps]\n",
    "        for video_path, timestamps in results.items()\n",
    "    }\n",
    "    json.dump(serializable_results, f, indent=4)"
   ]
  },
  {
   "cell_type": "code",
   "execution_count": null,
   "id": "64e31497",
   "metadata": {},
   "outputs": [],
   "source": [
    "exporter = BigQueryExporter(config)\n",
    "exporter.export_detections(config.paths.results)"
   ]
  }
 ],
 "metadata": {
  "colab": {
   "name": "gagata (Feb 7, 2025, 2:06:40 PM)",
   "provenance": []
  },
  "environment": {
   "kernel": "raidar_video_intelligence",
   "name": "workbench-notebooks.m128",
   "type": "gcloud",
   "uri": "us-docker.pkg.dev/deeplearning-platform-release/gcr.io/workbench-notebooks:m128"
  },
  "kernelspec": {
   "display_name": "video-intelligence-w_Sfx2-O-py3.11",
   "language": "python",
   "name": "python3"
  },
  "language_info": {
   "codemirror_mode": {
    "name": "ipython",
    "version": 3
   },
   "file_extension": ".py",
   "mimetype": "text/x-python",
   "name": "python",
   "nbconvert_exporter": "python",
   "pygments_lexer": "ipython3",
   "version": "3.11.12"
  }
 },
 "nbformat": 4,
 "nbformat_minor": 5
}
