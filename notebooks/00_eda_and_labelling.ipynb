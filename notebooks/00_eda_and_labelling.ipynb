{
 "cells": [
  {
   "cell_type": "markdown",
   "id": "3a7120db-4e96-4c6b-9646-f10a6099cc5d",
   "metadata": {
    "id": "5439d72e"
   },
   "source": [
    "# EDA & Labelling"
   ]
  },
  {
   "cell_type": "code",
   "execution_count": 1,
   "id": "7803747b-9f5c-4e1e-916c-b761f7a396a5",
   "metadata": {},
   "outputs": [],
   "source": [
    "import os\n",
    "import cv2\n",
    "\n",
    "import pandas as pd\n",
    "import numpy as np\n",
    "\n",
    "from pathlib import Path\n",
    "\n",
    "from video_intelligence.utils.io import GcsIO, LocalIO\n",
    "from video_intelligence.config import Config"
   ]
  },
  {
   "cell_type": "code",
   "execution_count": null,
   "id": "1f629870",
   "metadata": {},
   "outputs": [
    {
     "data": {
      "text/plain": [
       "Config(project_id='prj-test-389806', location='us-central1', bucket='driving-videos-kaggle', model_id='gemini-2.5-pro', dataset_id='video_intelligence', table_id='video_analysis_results', input_path='input', preprocessed_path='preprocessed', output_path='processed', objects_to_detect=['car', 'human', 'traffic light', 'traffic sign'], detection_prompt='frame_2d_bounding', max_items_to_detect=15, debug_interval=1, sequences_prompt='sequence_extraction', paths=PathsConfig(preprocessing_config=PosixPath('/usr/local/google/home/gagata/code/video-intelligence/results/preprocessing_config.csv'), tmp=PosixPath('/usr/local/google/home/gagata/code/video-intelligence/tmp/videos'), metadata=PosixPath('/usr/local/google/home/gagata/code/video-intelligence/results/metadata.csv'), ground_truth=PosixPath('/usr/local/google/home/gagata/code/video-intelligence/results/ground_truth_converted.json'), results=PosixPath('/usr/local/google/home/gagata/code/video-intelligence/results/results.json'), sequences=PosixPath('/usr/local/google/home/gagata/code/video-intelligence/results/sequences.json'), detection_eval_results=PosixPath('/usr/local/google/home/gagata/code/video-intelligence/results/detection_evaluation_results.json'), sequence_eval_results=PosixPath('/usr/local/google/home/gagata/code/video-intelligence/results/sequence_evaluation_results.json')))"
      ]
     },
     "execution_count": 2,
     "metadata": {},
     "output_type": "execute_result"
    }
   ],
   "source": [
    "config_file = config_file = Path.cwd().parent / \"config.yaml\"\n",
    "config = Config.from_yaml(config_file)\n",
    "config"
   ]
  },
  {
   "cell_type": "code",
   "execution_count": 3,
   "id": "487e8368",
   "metadata": {},
   "outputs": [],
   "source": [
    "gcs_io = GcsIO(project_id=config.project_id, root_path=f\"gs://{config.bucket}\")\n",
    "local_io = LocalIO(root_path=config.paths.tmp)"
   ]
  },
  {
   "cell_type": "code",
   "execution_count": 4,
   "id": "2d38b735",
   "metadata": {},
   "outputs": [
    {
     "data": {
      "text/plain": [
       "['input/0000f77c-6257be58.mov',\n",
       " 'input/00091078-7cff8ea6.mov',\n",
       " 'input/00225f53-67614580.mov']"
      ]
     },
     "execution_count": 4,
     "metadata": {},
     "output_type": "execute_result"
    }
   ],
   "source": [
    "videos = gcs_io.list_files(config.input_path)\n",
    "videos"
   ]
  },
  {
   "cell_type": "code",
   "execution_count": 5,
   "id": "985c7fe3-c556-4678-8477-a3276da3de38",
   "metadata": {},
   "outputs": [
    {
     "data": {
      "application/vnd.microsoft.datawrangler.viewer.v0+json": {
       "columns": [
        {
         "name": "video_path",
         "rawType": "object",
         "type": "string"
        },
        {
         "name": "fps",
         "rawType": "float64",
         "type": "float"
        },
        {
         "name": "width",
         "rawType": "float64",
         "type": "float"
        },
        {
         "name": "height",
         "rawType": "float64",
         "type": "float"
        },
        {
         "name": "fourcc",
         "rawType": "float64",
         "type": "float"
        },
        {
         "name": "frames",
         "rawType": "float64",
         "type": "float"
        },
        {
         "name": "length",
         "rawType": "float64",
         "type": "float"
        }
       ],
       "ref": "90187e1b-7076-46ee-a089-b9d530f5a011",
       "rows": [
        [
         "input/0000f77c-6257be58.mov",
         null,
         null,
         null,
         null,
         null,
         null
        ],
        [
         "input/00091078-7cff8ea6.mov",
         null,
         null,
         null,
         null,
         null,
         null
        ],
        [
         "input/00225f53-67614580.mov",
         null,
         null,
         null,
         null,
         null,
         null
        ]
       ],
       "shape": {
        "columns": 6,
        "rows": 3
       }
      },
      "text/html": [
       "<div>\n",
       "<style scoped>\n",
       "    .dataframe tbody tr th:only-of-type {\n",
       "        vertical-align: middle;\n",
       "    }\n",
       "\n",
       "    .dataframe tbody tr th {\n",
       "        vertical-align: top;\n",
       "    }\n",
       "\n",
       "    .dataframe thead th {\n",
       "        text-align: right;\n",
       "    }\n",
       "</style>\n",
       "<table border=\"1\" class=\"dataframe\">\n",
       "  <thead>\n",
       "    <tr style=\"text-align: right;\">\n",
       "      <th></th>\n",
       "      <th>fps</th>\n",
       "      <th>width</th>\n",
       "      <th>height</th>\n",
       "      <th>fourcc</th>\n",
       "      <th>frames</th>\n",
       "      <th>length</th>\n",
       "    </tr>\n",
       "    <tr>\n",
       "      <th>video_path</th>\n",
       "      <th></th>\n",
       "      <th></th>\n",
       "      <th></th>\n",
       "      <th></th>\n",
       "      <th></th>\n",
       "      <th></th>\n",
       "    </tr>\n",
       "  </thead>\n",
       "  <tbody>\n",
       "    <tr>\n",
       "      <th>input/0000f77c-6257be58.mov</th>\n",
       "      <td>NaN</td>\n",
       "      <td>NaN</td>\n",
       "      <td>NaN</td>\n",
       "      <td>NaN</td>\n",
       "      <td>NaN</td>\n",
       "      <td>NaN</td>\n",
       "    </tr>\n",
       "    <tr>\n",
       "      <th>input/00091078-7cff8ea6.mov</th>\n",
       "      <td>NaN</td>\n",
       "      <td>NaN</td>\n",
       "      <td>NaN</td>\n",
       "      <td>NaN</td>\n",
       "      <td>NaN</td>\n",
       "      <td>NaN</td>\n",
       "    </tr>\n",
       "    <tr>\n",
       "      <th>input/00225f53-67614580.mov</th>\n",
       "      <td>NaN</td>\n",
       "      <td>NaN</td>\n",
       "      <td>NaN</td>\n",
       "      <td>NaN</td>\n",
       "      <td>NaN</td>\n",
       "      <td>NaN</td>\n",
       "    </tr>\n",
       "  </tbody>\n",
       "</table>\n",
       "</div>"
      ],
      "text/plain": [
       "                             fps  width  height  fourcc  frames  length\n",
       "video_path                                                             \n",
       "input/0000f77c-6257be58.mov  NaN    NaN     NaN     NaN     NaN     NaN\n",
       "input/00091078-7cff8ea6.mov  NaN    NaN     NaN     NaN     NaN     NaN\n",
       "input/00225f53-67614580.mov  NaN    NaN     NaN     NaN     NaN     NaN"
      ]
     },
     "execution_count": 5,
     "metadata": {},
     "output_type": "execute_result"
    }
   ],
   "source": [
    "df = pd.DataFrame(\n",
    "    np.nan,\n",
    "    index=videos,\n",
    "    columns=['fps', 'width', 'height', 'fourcc', 'frames', 'length']\n",
    ")\n",
    "df.index.name = \"video_path\"\n",
    "df.head()"
   ]
  },
  {
   "cell_type": "code",
   "execution_count": 6,
   "id": "be4b4412",
   "metadata": {
    "colab": {
     "base_uri": "https://localhost:8080/",
     "height": 218
    },
    "id": "be4b4412",
    "outputId": "9650f8c7-fdf9-469d-c488-59af50610736"
   },
   "outputs": [
    {
     "name": "stderr",
     "output_type": "stream",
     "text": [
      "/tmp/ipykernel_2834666/2655356383.py:30: FutureWarning: Setting an item of incompatible dtype is deprecated and will raise an error in a future version of pandas. Value 'h264' has dtype incompatible with float64, please explicitly cast to a compatible dtype first.\n",
      "  df.loc[gcs_path, 'fourcc'] = \"\".join([chr((fourcc >> 8 * i) & 0xFF) for i in range(4)])\n"
     ]
    },
    {
     "data": {
      "application/vnd.microsoft.datawrangler.viewer.v0+json": {
       "columns": [
        {
         "name": "video_path",
         "rawType": "object",
         "type": "string"
        },
        {
         "name": "fps",
         "rawType": "float64",
         "type": "float"
        },
        {
         "name": "width",
         "rawType": "float64",
         "type": "float"
        },
        {
         "name": "height",
         "rawType": "float64",
         "type": "float"
        },
        {
         "name": "fourcc",
         "rawType": "object",
         "type": "string"
        },
        {
         "name": "frames",
         "rawType": "float64",
         "type": "float"
        },
        {
         "name": "length",
         "rawType": "float64",
         "type": "float"
        }
       ],
       "ref": "2a940f35-322b-4222-b38c-41c3650a8c2a",
       "rows": [
        [
         "input/0000f77c-6257be58.mov",
         "30.0",
         "1280.0",
         "720.0",
         "h264",
         "1217.0",
         "40.0"
        ],
        [
         "input/00091078-7cff8ea6.mov",
         "30.0",
         "1280.0",
         "720.0",
         "h264",
         "1210.0",
         "40.0"
        ],
        [
         "input/00225f53-67614580.mov",
         "30.0",
         "1280.0",
         "720.0",
         "h264",
         "1206.0",
         "40.0"
        ]
       ],
       "shape": {
        "columns": 6,
        "rows": 3
       }
      },
      "text/html": [
       "<div>\n",
       "<style scoped>\n",
       "    .dataframe tbody tr th:only-of-type {\n",
       "        vertical-align: middle;\n",
       "    }\n",
       "\n",
       "    .dataframe tbody tr th {\n",
       "        vertical-align: top;\n",
       "    }\n",
       "\n",
       "    .dataframe thead th {\n",
       "        text-align: right;\n",
       "    }\n",
       "</style>\n",
       "<table border=\"1\" class=\"dataframe\">\n",
       "  <thead>\n",
       "    <tr style=\"text-align: right;\">\n",
       "      <th></th>\n",
       "      <th>fps</th>\n",
       "      <th>width</th>\n",
       "      <th>height</th>\n",
       "      <th>fourcc</th>\n",
       "      <th>frames</th>\n",
       "      <th>length</th>\n",
       "    </tr>\n",
       "    <tr>\n",
       "      <th>video_path</th>\n",
       "      <th></th>\n",
       "      <th></th>\n",
       "      <th></th>\n",
       "      <th></th>\n",
       "      <th></th>\n",
       "      <th></th>\n",
       "    </tr>\n",
       "  </thead>\n",
       "  <tbody>\n",
       "    <tr>\n",
       "      <th>input/0000f77c-6257be58.mov</th>\n",
       "      <td>30.0</td>\n",
       "      <td>1280.0</td>\n",
       "      <td>720.0</td>\n",
       "      <td>h264</td>\n",
       "      <td>1217.0</td>\n",
       "      <td>40.0</td>\n",
       "    </tr>\n",
       "    <tr>\n",
       "      <th>input/00091078-7cff8ea6.mov</th>\n",
       "      <td>30.0</td>\n",
       "      <td>1280.0</td>\n",
       "      <td>720.0</td>\n",
       "      <td>h264</td>\n",
       "      <td>1210.0</td>\n",
       "      <td>40.0</td>\n",
       "    </tr>\n",
       "    <tr>\n",
       "      <th>input/00225f53-67614580.mov</th>\n",
       "      <td>30.0</td>\n",
       "      <td>1280.0</td>\n",
       "      <td>720.0</td>\n",
       "      <td>h264</td>\n",
       "      <td>1206.0</td>\n",
       "      <td>40.0</td>\n",
       "    </tr>\n",
       "  </tbody>\n",
       "</table>\n",
       "</div>"
      ],
      "text/plain": [
       "                              fps   width  height fourcc  frames  length\n",
       "video_path                                                              \n",
       "input/0000f77c-6257be58.mov  30.0  1280.0   720.0   h264  1217.0    40.0\n",
       "input/00091078-7cff8ea6.mov  30.0  1280.0   720.0   h264  1210.0    40.0\n",
       "input/00225f53-67614580.mov  30.0  1280.0   720.0   h264  1206.0    40.0"
      ]
     },
     "execution_count": 6,
     "metadata": {},
     "output_type": "execute_result"
    }
   ],
   "source": [
    "fails = []\n",
    "\n",
    "for gcs_path in videos:\n",
    "    tmp_filename = \"tmp.mov\"\n",
    "    video = gcs_io.get_video(gcs_path)\n",
    "    local_io.save_video(video, tmp_filename)\n",
    "\n",
    "    try:\n",
    "        tmp_path = os.path.join(local_io._root_path, tmp_filename)\n",
    "        cap = cv2.VideoCapture(tmp_path)\n",
    "        if not cap.isOpened():\n",
    "            print(f\"Error opening video file: {gcs_path}\")\n",
    "            continue\n",
    "\n",
    "        fps = int(cap.get(cv2.CAP_PROP_FPS))\n",
    "        width = int(cap.get(cv2.CAP_PROP_FRAME_WIDTH))\n",
    "        height = int(cap.get(cv2.CAP_PROP_FRAME_HEIGHT))\n",
    "        fourcc = int(cap.get(cv2.CAP_PROP_FOURCC))\n",
    "        frames = int(cap.get(cv2.CAP_PROP_FRAME_COUNT))\n",
    "        duration = int(frames / fps if fps != 0 else 0)\n",
    "        rotation = int(cap.get(cv2.CAP_PROP_ORIENTATION_META))\n",
    "\n",
    "        if rotation == 90 or rotation == 270:\n",
    "            width, height = height, width\n",
    "\n",
    "        df.loc[gcs_path, 'length'] = duration\n",
    "        df.loc[gcs_path, 'fps'] = fps\n",
    "        df.loc[gcs_path, 'width'] = width\n",
    "        df.loc[gcs_path, 'height'] = height\n",
    "        df.loc[gcs_path, 'fourcc'] = \"\".join([chr((fourcc >> 8 * i) & 0xFF) for i in range(4)])\n",
    "        df.loc[gcs_path, 'frames'] = frames\n",
    "\n",
    "        cap.release()\n",
    "        local_io.remove_video(os.path.join(local_io._root_path, tmp_filename))\n",
    "\n",
    "    except Exception as e:\n",
    "        print(f\"Error processing video {gcs_path}: {e}\")\n",
    "        fails.append(gcs_path)\n",
    "\n",
    "df.head()"
   ]
  },
  {
   "cell_type": "code",
   "execution_count": 7,
   "id": "ANHHNbAPaUM1",
   "metadata": {
    "id": "ANHHNbAPaUM1"
   },
   "outputs": [],
   "source": [
    "df.to_csv(Path.cwd().parent / config.paths.metadata)"
   ]
  },
  {
   "cell_type": "markdown",
   "id": "f948a1d2",
   "metadata": {},
   "source": [
    "### Identify the best crop parameters, start frames and target FPS"
   ]
  },
  {
   "cell_type": "code",
   "execution_count": 8,
   "id": "848cdb52",
   "metadata": {
    "tags": []
   },
   "outputs": [],
   "source": [
    "start_times = [0]*len(videos)\n",
    "croppings = [(100, 140, 0, 0)]*len(videos)\n",
    "fps = 1"
   ]
  },
  {
   "cell_type": "code",
   "execution_count": 9,
   "id": "1f622f72",
   "metadata": {
    "tags": []
   },
   "outputs": [],
   "source": [
    "df = pd.read_csv(config.paths.metadata, index_col=\"video_path\")"
   ]
  },
  {
   "cell_type": "code",
   "execution_count": 10,
   "id": "df86de51",
   "metadata": {},
   "outputs": [
    {
     "data": {
      "application/vnd.microsoft.datawrangler.viewer.v0+json": {
       "columns": [
        {
         "name": "video_path",
         "rawType": "object",
         "type": "string"
        },
        {
         "name": "fps",
         "rawType": "float64",
         "type": "float"
        },
        {
         "name": "width",
         "rawType": "float64",
         "type": "float"
        },
        {
         "name": "height",
         "rawType": "float64",
         "type": "float"
        },
        {
         "name": "fourcc",
         "rawType": "object",
         "type": "string"
        },
        {
         "name": "frames",
         "rawType": "float64",
         "type": "float"
        },
        {
         "name": "length",
         "rawType": "float64",
         "type": "float"
        }
       ],
       "ref": "13caddc8-f7d0-4ec4-a987-13068932ef93",
       "rows": [
        [
         "input/0000f77c-6257be58.mov",
         "30.0",
         "1280.0",
         "720.0",
         "h264",
         "1217.0",
         "40.0"
        ],
        [
         "input/00091078-7cff8ea6.mov",
         "30.0",
         "1280.0",
         "720.0",
         "h264",
         "1210.0",
         "40.0"
        ],
        [
         "input/00225f53-67614580.mov",
         "30.0",
         "1280.0",
         "720.0",
         "h264",
         "1206.0",
         "40.0"
        ]
       ],
       "shape": {
        "columns": 6,
        "rows": 3
       }
      },
      "text/html": [
       "<div>\n",
       "<style scoped>\n",
       "    .dataframe tbody tr th:only-of-type {\n",
       "        vertical-align: middle;\n",
       "    }\n",
       "\n",
       "    .dataframe tbody tr th {\n",
       "        vertical-align: top;\n",
       "    }\n",
       "\n",
       "    .dataframe thead th {\n",
       "        text-align: right;\n",
       "    }\n",
       "</style>\n",
       "<table border=\"1\" class=\"dataframe\">\n",
       "  <thead>\n",
       "    <tr style=\"text-align: right;\">\n",
       "      <th></th>\n",
       "      <th>fps</th>\n",
       "      <th>width</th>\n",
       "      <th>height</th>\n",
       "      <th>fourcc</th>\n",
       "      <th>frames</th>\n",
       "      <th>length</th>\n",
       "    </tr>\n",
       "    <tr>\n",
       "      <th>video_path</th>\n",
       "      <th></th>\n",
       "      <th></th>\n",
       "      <th></th>\n",
       "      <th></th>\n",
       "      <th></th>\n",
       "      <th></th>\n",
       "    </tr>\n",
       "  </thead>\n",
       "  <tbody>\n",
       "    <tr>\n",
       "      <th>input/0000f77c-6257be58.mov</th>\n",
       "      <td>30.0</td>\n",
       "      <td>1280.0</td>\n",
       "      <td>720.0</td>\n",
       "      <td>h264</td>\n",
       "      <td>1217.0</td>\n",
       "      <td>40.0</td>\n",
       "    </tr>\n",
       "    <tr>\n",
       "      <th>input/00091078-7cff8ea6.mov</th>\n",
       "      <td>30.0</td>\n",
       "      <td>1280.0</td>\n",
       "      <td>720.0</td>\n",
       "      <td>h264</td>\n",
       "      <td>1210.0</td>\n",
       "      <td>40.0</td>\n",
       "    </tr>\n",
       "    <tr>\n",
       "      <th>input/00225f53-67614580.mov</th>\n",
       "      <td>30.0</td>\n",
       "      <td>1280.0</td>\n",
       "      <td>720.0</td>\n",
       "      <td>h264</td>\n",
       "      <td>1206.0</td>\n",
       "      <td>40.0</td>\n",
       "    </tr>\n",
       "  </tbody>\n",
       "</table>\n",
       "</div>"
      ],
      "text/plain": [
       "                              fps   width  height fourcc  frames  length\n",
       "video_path                                                              \n",
       "input/0000f77c-6257be58.mov  30.0  1280.0   720.0   h264  1217.0    40.0\n",
       "input/00091078-7cff8ea6.mov  30.0  1280.0   720.0   h264  1210.0    40.0\n",
       "input/00225f53-67614580.mov  30.0  1280.0   720.0   h264  1206.0    40.0"
      ]
     },
     "execution_count": 10,
     "metadata": {},
     "output_type": "execute_result"
    }
   ],
   "source": [
    "df"
   ]
  },
  {
   "cell_type": "code",
   "execution_count": 11,
   "id": "b67a24e8",
   "metadata": {
    "tags": []
   },
   "outputs": [],
   "source": [
    "start_frames = {}\n",
    "crop_params = {}\n",
    "\n",
    "df['fps'] = fps\n",
    "\n",
    "for video, start_time in zip(videos, start_times):\n",
    "    video_fps = df.loc[video, 'fps']\n",
    "    start_frame = int(start_time * video_fps)\n",
    "    start_frames[video] = start_frame\n",
    "    df.loc[video, 'start_frame'] = start_frame\n",
    "\n",
    "for video, crop in zip(videos, croppings):\n",
    "    width = df.loc[video, 'width']\n",
    "    height = df.loc[video, 'height']\n",
    "    top, bottom, left, right = crop\n",
    "    final_width = width - (left + right)\n",
    "    final_height = height - (top + bottom)\n",
    "    crop_dims = (int(final_width), int(final_height), top, bottom, left, right)\n",
    "    crop_params[video] = crop_dims\n",
    "    df.loc[video, 'crop_params'] = str(crop_dims)"
   ]
  },
  {
   "cell_type": "code",
   "execution_count": 12,
   "id": "56256cd4",
   "metadata": {
    "tags": []
   },
   "outputs": [
    {
     "data": {
      "application/vnd.microsoft.datawrangler.viewer.v0+json": {
       "columns": [
        {
         "name": "video_path",
         "rawType": "object",
         "type": "string"
        },
        {
         "name": "fps",
         "rawType": "int64",
         "type": "integer"
        },
        {
         "name": "width",
         "rawType": "float64",
         "type": "float"
        },
        {
         "name": "height",
         "rawType": "float64",
         "type": "float"
        },
        {
         "name": "fourcc",
         "rawType": "object",
         "type": "string"
        },
        {
         "name": "frames",
         "rawType": "float64",
         "type": "float"
        },
        {
         "name": "length",
         "rawType": "float64",
         "type": "float"
        },
        {
         "name": "start_frame",
         "rawType": "float64",
         "type": "float"
        },
        {
         "name": "crop_params",
         "rawType": "object",
         "type": "string"
        }
       ],
       "ref": "e1ae06d8-e1a9-482a-9abf-87418c9a91f3",
       "rows": [
        [
         "input/0000f77c-6257be58.mov",
         "1",
         "1280.0",
         "720.0",
         "h264",
         "1217.0",
         "40.0",
         "0.0",
         "(1280, 480, 100, 140, 0, 0)"
        ],
        [
         "input/00091078-7cff8ea6.mov",
         "1",
         "1280.0",
         "720.0",
         "h264",
         "1210.0",
         "40.0",
         "0.0",
         "(1280, 480, 100, 140, 0, 0)"
        ],
        [
         "input/00225f53-67614580.mov",
         "1",
         "1280.0",
         "720.0",
         "h264",
         "1206.0",
         "40.0",
         "0.0",
         "(1280, 480, 100, 140, 0, 0)"
        ]
       ],
       "shape": {
        "columns": 8,
        "rows": 3
       }
      },
      "text/html": [
       "<div>\n",
       "<style scoped>\n",
       "    .dataframe tbody tr th:only-of-type {\n",
       "        vertical-align: middle;\n",
       "    }\n",
       "\n",
       "    .dataframe tbody tr th {\n",
       "        vertical-align: top;\n",
       "    }\n",
       "\n",
       "    .dataframe thead th {\n",
       "        text-align: right;\n",
       "    }\n",
       "</style>\n",
       "<table border=\"1\" class=\"dataframe\">\n",
       "  <thead>\n",
       "    <tr style=\"text-align: right;\">\n",
       "      <th></th>\n",
       "      <th>fps</th>\n",
       "      <th>width</th>\n",
       "      <th>height</th>\n",
       "      <th>fourcc</th>\n",
       "      <th>frames</th>\n",
       "      <th>length</th>\n",
       "      <th>start_frame</th>\n",
       "      <th>crop_params</th>\n",
       "    </tr>\n",
       "    <tr>\n",
       "      <th>video_path</th>\n",
       "      <th></th>\n",
       "      <th></th>\n",
       "      <th></th>\n",
       "      <th></th>\n",
       "      <th></th>\n",
       "      <th></th>\n",
       "      <th></th>\n",
       "      <th></th>\n",
       "    </tr>\n",
       "  </thead>\n",
       "  <tbody>\n",
       "    <tr>\n",
       "      <th>input/0000f77c-6257be58.mov</th>\n",
       "      <td>1</td>\n",
       "      <td>1280.0</td>\n",
       "      <td>720.0</td>\n",
       "      <td>h264</td>\n",
       "      <td>1217.0</td>\n",
       "      <td>40.0</td>\n",
       "      <td>0.0</td>\n",
       "      <td>(1280, 480, 100, 140, 0, 0)</td>\n",
       "    </tr>\n",
       "    <tr>\n",
       "      <th>input/00091078-7cff8ea6.mov</th>\n",
       "      <td>1</td>\n",
       "      <td>1280.0</td>\n",
       "      <td>720.0</td>\n",
       "      <td>h264</td>\n",
       "      <td>1210.0</td>\n",
       "      <td>40.0</td>\n",
       "      <td>0.0</td>\n",
       "      <td>(1280, 480, 100, 140, 0, 0)</td>\n",
       "    </tr>\n",
       "    <tr>\n",
       "      <th>input/00225f53-67614580.mov</th>\n",
       "      <td>1</td>\n",
       "      <td>1280.0</td>\n",
       "      <td>720.0</td>\n",
       "      <td>h264</td>\n",
       "      <td>1206.0</td>\n",
       "      <td>40.0</td>\n",
       "      <td>0.0</td>\n",
       "      <td>(1280, 480, 100, 140, 0, 0)</td>\n",
       "    </tr>\n",
       "  </tbody>\n",
       "</table>\n",
       "</div>"
      ],
      "text/plain": [
       "                             fps   width  height fourcc  frames  length  \\\n",
       "video_path                                                                \n",
       "input/0000f77c-6257be58.mov    1  1280.0   720.0   h264  1217.0    40.0   \n",
       "input/00091078-7cff8ea6.mov    1  1280.0   720.0   h264  1210.0    40.0   \n",
       "input/00225f53-67614580.mov    1  1280.0   720.0   h264  1206.0    40.0   \n",
       "\n",
       "                             start_frame                  crop_params  \n",
       "video_path                                                             \n",
       "input/0000f77c-6257be58.mov          0.0  (1280, 480, 100, 140, 0, 0)  \n",
       "input/00091078-7cff8ea6.mov          0.0  (1280, 480, 100, 140, 0, 0)  \n",
       "input/00225f53-67614580.mov          0.0  (1280, 480, 100, 140, 0, 0)  "
      ]
     },
     "execution_count": 12,
     "metadata": {},
     "output_type": "execute_result"
    }
   ],
   "source": [
    "df"
   ]
  },
  {
   "cell_type": "code",
   "execution_count": 13,
   "id": "973c7743-37a3-45a3-84bc-456650c0ce4d",
   "metadata": {
    "tags": []
   },
   "outputs": [],
   "source": [
    "df.to_csv(config.paths.preprocessing_config)"
   ]
  }
 ],
 "metadata": {
  "colab": {
   "provenance": []
  },
  "environment": {
   "kernel": "raidar",
   "name": "workbench-notebooks.m128",
   "type": "gcloud",
   "uri": "us-docker.pkg.dev/deeplearning-platform-release/gcr.io/workbench-notebooks:m128"
  },
  "kernelspec": {
   "display_name": "video-intelligence-w_Sfx2-O-py3.12",
   "language": "python",
   "name": "python3"
  },
  "language_info": {
   "codemirror_mode": {
    "name": "ipython",
    "version": 3
   },
   "file_extension": ".py",
   "mimetype": "text/x-python",
   "name": "python",
   "nbconvert_exporter": "python",
   "pygments_lexer": "ipython3",
   "version": "3.12.10"
  }
 },
 "nbformat": 4,
 "nbformat_minor": 5
}
